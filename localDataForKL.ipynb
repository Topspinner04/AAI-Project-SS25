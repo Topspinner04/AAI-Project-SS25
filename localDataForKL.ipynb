{
  "nbformat": 4,
  "nbformat_minor": 0,
  "metadata": {
    "colab": {
      "provenance": [],
      "authorship_tag": "ABX9TyMBr6NQH8VRhkBusCvSc6Ru",
      "include_colab_link": true
    },
    "kernelspec": {
      "name": "python3",
      "display_name": "Python 3"
    },
    "language_info": {
      "name": "python"
    }
  },
  "cells": [
    {
      "cell_type": "markdown",
      "metadata": {
        "id": "view-in-github",
        "colab_type": "text"
      },
      "source": [
        "<a href=\"https://colab.research.google.com/github/Topspinner04/AAI-Project-SS25/blob/main/localDataForKL.ipynb\" target=\"_parent\"><img src=\"https://colab.research.google.com/assets/colab-badge.svg\" alt=\"Open In Colab\"/></a>"
      ]
    },
    {
      "cell_type": "markdown",
      "source": [
        "**Animating local data for Kaiserselautern (Test Task)**"
      ],
      "metadata": {
        "id": "iSjVACStsi6P"
      }
    },
    {
      "cell_type": "markdown",
      "source": [
        "Importing requests and json library to conduct HTTP requests"
      ],
      "metadata": {
        "id": "jvR8WPMpsqyQ"
      }
    },
    {
      "cell_type": "code",
      "execution_count": null,
      "metadata": {
        "id": "wx57JMear9UD"
      },
      "outputs": [],
      "source": [
        "import requests\n",
        "import json"
      ]
    },
    {
      "cell_type": "markdown",
      "source": [
        "Sends a simple get request to check connection"
      ],
      "metadata": {
        "id": "lKV3UIsNtlMP"
      }
    },
    {
      "cell_type": "code",
      "source": [
        "response = requests.get(\"https://publicdata.kl.dfki.de\")"
      ],
      "metadata": {
        "id": "O2Gv2MYbtJ9S"
      },
      "execution_count": null,
      "outputs": []
    },
    {
      "cell_type": "code",
      "source": [
        "if response.status_code == 200:\n",
        "  print(\"Connection successful!\")\n",
        "else:\n",
        "  print(\"Connection failed with status code:\", response.status_code)\n",
        "  print(response.text)"
      ],
      "metadata": {
        "colab": {
          "base_uri": "https://localhost:8080/"
        },
        "id": "Dfuw-q-Ntsli",
        "outputId": "29382c4d-9cff-4090-fda1-e1ea559d8f40"
      },
      "execution_count": null,
      "outputs": [
        {
          "output_type": "stream",
          "name": "stdout",
          "text": [
            "Connection successful!\n"
          ]
        }
      ]
    },
    {
      "cell_type": "markdown",
      "source": [
        "Setting up the url and the headers for our requests"
      ],
      "metadata": {
        "id": "mIkRntvFvoGD"
      }
    },
    {
      "cell_type": "code",
      "source": [
        "url = \"https://publicdata.kl.dfki.de/public/elasticsearchKaiserslauternPublicRead.php\"\n",
        "\n",
        "headers = {'Content-Type': 'application/json; charset=UTF-8;'}"
      ],
      "metadata": {
        "id": "sKj-K6u3vMQS"
      },
      "execution_count": null,
      "outputs": []
    },
    {
      "cell_type": "markdown",
      "source": [
        "Test payload"
      ],
      "metadata": {
        "id": "5PuPaRGxvxAV"
      }
    },
    {
      "cell_type": "code",
      "source": [
        "payload = {\n",
        "    \"indexAction\": \"_search\",\n",
        "    \"indexName\": \"spotify_tracks\",\n",
        "    \"requestType\": \"post\",\n",
        "    \"dataForRemote\": {\n",
        "        \"query\": {\n",
        "            \"query_string\": {\n",
        "                \"query\": \"adverts\",\n",
        "                \"fields\": [\n",
        "                    \"artists.name\"\n",
        "                ]\n",
        "            }\n",
        "        },\n",
        "        \"size\": 10,\n",
        "        \"track_total_hits\": True\n",
        "    },\n",
        "    \"pretty\": True\n",
        "}"
      ],
      "metadata": {
        "id": "IHcRjsOJvszv"
      },
      "execution_count": null,
      "outputs": []
    },
    {
      "cell_type": "markdown",
      "source": [
        "Payload #1 (The White Stripes)"
      ],
      "metadata": {
        "id": "8z_jhn1mymG_"
      }
    },
    {
      "cell_type": "code",
      "source": [
        "payload = {\n",
        "    \"indexAction\": \"_search\",\n",
        "    \"indexName\": \"spotify_tracks\",\n",
        "    \"requestType\": \"post\",\n",
        "    \"dataForRemote\": {\n",
        "        \"query\": {\n",
        "            \"query_string\": {\n",
        "                \"query\": \"White Stripes\",\n",
        "                \"fields\": [\n",
        "                    \"artists.name\"\n",
        "                ]\n",
        "            }\n",
        "        },\n",
        "        \"size\": 10,\n",
        "        \"track_total_hits\": True\n",
        "    },\n",
        "    \"pretty\": True\n",
        "}"
      ],
      "metadata": {
        "id": "NjQ8neSoyHjp"
      },
      "execution_count": null,
      "outputs": []
    },
    {
      "cell_type": "markdown",
      "source": [
        "There are 973 entries for the group \"The White Stripes\"."
      ],
      "metadata": {
        "id": "fe8NA9ARys30"
      }
    },
    {
      "cell_type": "markdown",
      "source": [
        "Payload #2 (Queen + David Bowie)"
      ],
      "metadata": {
        "id": "zIu7fSQ0zL5m"
      }
    },
    {
      "cell_type": "code",
      "source": [
        "payload = {\n",
        "    \"indexAction\": \"_search\",\n",
        "    \"indexName\": \"spotify_tracks\",\n",
        "    \"requestType\": \"post\",\n",
        "    \"dataForRemote\": {\n",
        "        \"query\": {\n",
        "            \"query_string\": {\n",
        "                \"query\": \"(Queen) AND (David Bowie)\",\n",
        "                \"fields\": [\n",
        "                    \"artists.name\"\n",
        "                ]\n",
        "            }\n",
        "        },\n",
        "        \"size\": 10,\n",
        "        \"track_total_hits\": True\n",
        "    },\n",
        "    \"pretty\": True\n",
        "}"
      ],
      "metadata": {
        "id": "YFfDwM4myyzO"
      },
      "execution_count": null,
      "outputs": []
    },
    {
      "cell_type": "markdown",
      "source": [
        "There are ten entries for songs that Queen created together with David Bowie."
      ],
      "metadata": {
        "id": "K9poCAjVy_oO"
      }
    },
    {
      "cell_type": "markdown",
      "source": [
        "Payload #3 (The Beatles & \"Love\")"
      ],
      "metadata": {
        "id": "TFQ4VYJL3326"
      }
    },
    {
      "cell_type": "code",
      "source": [
        "payload = {\n",
        "    \"indexAction\": \"_search\",\n",
        "    \"indexName\": \"spotify_tracks\",\n",
        "    \"requestType\": \"post\",\n",
        "    \"dataForRemote\": {\n",
        "        \"query\": {\n",
        "            \"bool\": {\n",
        "                \"must\": [\n",
        "                    {\"match\": {\"artists.name\": \"Beatles\"}},\n",
        "                    {\"match\": {\"name\": \"Love\"}}\n",
        "                ]\n",
        "            }\n",
        "        },\n",
        "        \"size\": 10,\n",
        "        \"track_total_hits\": True\n",
        "    },\n",
        "    \"pretty\": True\n",
        "}"
      ],
      "metadata": {
        "id": "ZdEN6vl4zThl"
      },
      "execution_count": null,
      "outputs": []
    },
    {
      "cell_type": "markdown",
      "source": [
        "There are 21 entries for songs that The Beatles created and which contain the word \"Love\" in the title."
      ],
      "metadata": {
        "id": "oOvZ4LxO38CU"
      }
    },
    {
      "cell_type": "markdown",
      "source": [
        "Sending the Request"
      ],
      "metadata": {
        "id": "v7JLMoTx4NXU"
      }
    },
    {
      "cell_type": "code",
      "source": [
        "response = requests.post(url, headers=headers, data=json.dumps(payload))\n",
        "\n",
        "if response.status_code == 200:\n",
        "    result = response.json()\n",
        "    print(json.dumps(result, indent=2))\n",
        "else:\n",
        "    print(f\"Request failed with status code: {response.status_code}\")\n",
        "    print(response.text)"
      ],
      "metadata": {
        "colab": {
          "base_uri": "https://localhost:8080/"
        },
        "id": "pgftpPYQwD5V",
        "outputId": "9420eee1-5fe8-44b3-af09-c5146a860f82"
      },
      "execution_count": null,
      "outputs": [
        {
          "output_type": "stream",
          "name": "stdout",
          "text": [
            "{\n",
            "  \"took\": 1,\n",
            "  \"timed_out\": false,\n",
            "  \"_shards\": {\n",
            "    \"total\": 1,\n",
            "    \"successful\": 1,\n",
            "    \"skipped\": 0,\n",
            "    \"failed\": 0\n",
            "  },\n",
            "  \"hits\": {\n",
            "    \"total\": {\n",
            "      \"value\": 3,\n",
            "      \"relation\": \"eq\"\n",
            "    },\n",
            "    \"max_score\": 13.430726,\n",
            "    \"hits\": [\n",
            "      {\n",
            "        \"_index\": \"spotify_tracks\",\n",
            "        \"_type\": \"_doc\",\n",
            "        \"_id\": \"1d0FMo0B1qQyyr3E9Aey\",\n",
            "        \"_score\": 13.430726,\n",
            "        \"_source\": {\n",
            "          \"id\": \"4Mj2GtsgUDaf43zxdw48hd\",\n",
            "          \"name\": \"Gary Gilmore's Eyes\",\n",
            "          \"popularity\": \"40\",\n",
            "          \"duration_ms\": \"136960\",\n",
            "          \"explicit\": \"1\",\n",
            "          \"artists\": [\n",
            "            {\n",
            "              \"name\": \"The Adverts\",\n",
            "              \"id\": \"3LttNNESJjyvswWk4Asvha\"\n",
            "            }\n",
            "          ],\n",
            "          \"release_date\": \"1978\",\n",
            "          \"danceability\": \"0.42100000\",\n",
            "          \"energy\": \"0.59800000\",\n",
            "          \"key\": \"4\",\n",
            "          \"loudness\": \"-6.07800000\",\n",
            "          \"mode\": \"0\",\n",
            "          \"speechiness\": \"0.04870000\",\n",
            "          \"acousticness\": \"0.03490000\",\n",
            "          \"instrumentalness\": \"0.00000480\",\n",
            "          \"liveness\": \"0.41600000\",\n",
            "          \"valence\": \"0.77800000\",\n",
            "          \"tempo\": \"157.92700000\",\n",
            "          \"time_signature\": \"4\"\n",
            "        }\n",
            "      },\n",
            "      {\n",
            "        \"_index\": \"spotify_tracks\",\n",
            "        \"_type\": \"_doc\",\n",
            "        \"_id\": \"mt4GMo0B1qQyyr3EP75k\",\n",
            "        \"_score\": 13.430726,\n",
            "        \"_source\": {\n",
            "          \"id\": \"6vwbmgcs04SPGcTWDcemvl\",\n",
            "          \"name\": \"One Chord Wonders\",\n",
            "          \"popularity\": \"34\",\n",
            "          \"duration_ms\": \"168986\",\n",
            "          \"explicit\": \"1\",\n",
            "          \"artists\": [\n",
            "            {\n",
            "              \"name\": \"The Adverts\",\n",
            "              \"id\": \"3LttNNESJjyvswWk4Asvha\"\n",
            "            }\n",
            "          ],\n",
            "          \"release_date\": \"1978\",\n",
            "          \"danceability\": \"0.12800000\",\n",
            "          \"energy\": \"0.96000000\",\n",
            "          \"key\": \"2\",\n",
            "          \"loudness\": \"-6.33800000\",\n",
            "          \"mode\": \"1\",\n",
            "          \"speechiness\": \"0.08970000\",\n",
            "          \"acousticness\": \"0.00247000\",\n",
            "          \"instrumentalness\": \"0.06930000\",\n",
            "          \"liveness\": \"0.06160000\",\n",
            "          \"valence\": \"0.24100000\",\n",
            "          \"tempo\": \"171.94900000\",\n",
            "          \"time_signature\": \"4\"\n",
            "        }\n",
            "      },\n",
            "      {\n",
            "        \"_index\": \"spotify_tracks\",\n",
            "        \"_type\": \"_doc\",\n",
            "        \"_id\": \"bOIGMo0B1qQyyr3E1RQ_\",\n",
            "        \"_score\": 13.430726,\n",
            "        \"_source\": {\n",
            "          \"id\": \"6F3jJtY4KK3vDIPG194ljg\",\n",
            "          \"name\": \"Bored Teenagers\",\n",
            "          \"popularity\": \"30\",\n",
            "          \"duration_ms\": \"104613\",\n",
            "          \"explicit\": \"1\",\n",
            "          \"artists\": [\n",
            "            {\n",
            "              \"name\": \"The Adverts\",\n",
            "              \"id\": \"3LttNNESJjyvswWk4Asvha\"\n",
            "            }\n",
            "          ],\n",
            "          \"release_date\": \"1978\",\n",
            "          \"danceability\": \"0.24700000\",\n",
            "          \"energy\": \"0.94200000\",\n",
            "          \"key\": \"9\",\n",
            "          \"loudness\": \"-7.18900000\",\n",
            "          \"mode\": \"0\",\n",
            "          \"speechiness\": \"0.12700000\",\n",
            "          \"acousticness\": \"0.01390000\",\n",
            "          \"instrumentalness\": \"0.00005620\",\n",
            "          \"liveness\": \"0.07710000\",\n",
            "          \"valence\": \"0.83500000\",\n",
            "          \"tempo\": \"176.10000000\",\n",
            "          \"time_signature\": \"3\"\n",
            "        }\n",
            "      }\n",
            "    ]\n",
            "  }\n",
            "}\n"
          ]
        }
      ]
    },
    {
      "cell_type": "code",
      "source": [],
      "metadata": {
        "id": "IFL2BOfCx-1e"
      },
      "execution_count": null,
      "outputs": []
    }
  ]
}